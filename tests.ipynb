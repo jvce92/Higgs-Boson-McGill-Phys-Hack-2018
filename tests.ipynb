{
 "cells": [
  {
   "cell_type": "code",
   "execution_count": 1,
   "metadata": {},
   "outputs": [],
   "source": [
    "%load_ext autoreload\n",
    "%autoreload 2"
   ]
  },
  {
   "cell_type": "code",
   "execution_count": 2,
   "metadata": {},
   "outputs": [],
   "source": [
    "import pandas as pd\n",
    "import numpy as np\n",
    "from matplotlib import pyplot as plt\n",
    "from prepare import prepare_data\n",
    "from model import Model"
   ]
  },
  {
   "cell_type": "code",
   "execution_count": 3,
   "metadata": {},
   "outputs": [],
   "source": [
    "DATA_PATH = \"./atlas-higgs-challenge-2014-v2.csv\"\n",
    "\n",
    "df, X_train, y_train, W_train, X_val, y_val, W_val, X_test, y_test, W_test = prepare_data(DATA_PATH)"
   ]
  },
  {
   "cell_type": "code",
   "execution_count": null,
   "metadata": {},
   "outputs": [],
   "source": [
    "print(\"Number of Features: {0}\".format(X_train.shape[1]))\n",
    "print(\"Number of train samples: {0}\".format(X_train.shape[0]))\n",
    "print(\"Number of validation samples: {0}\".format(X_val.shape[0]))\n",
    "print(\"Number of test samples: {0}\".format(X_test.shape[0]))"
   ]
  },
  {
   "cell_type": "code",
   "execution_count": null,
   "metadata": {},
   "outputs": [],
   "source": [
    "print(\"Features:\")\n",
    "df.columns.tolist()"
   ]
  },
  {
   "cell_type": "code",
   "execution_count": 11,
   "metadata": {},
   "outputs": [],
   "source": [
    "scale_pos_weight = (y_train[y_train[\"Label\"]==1].count()/y_train[y_train[\"Label\"]==0].count()).values[0]\n",
    "evals_result = {}\n",
    "params = {'max_depth': 10, 'eta': 0.1, 'gamma': 0.8,\n",
    "          'subsample': 0.8, 'num_round': 1000, 'eval_metric': ['auc', 'error'],\n",
    "          'lambda': 25, 'growth_policy': 'depthwise', 'silent': 0, \n",
    "          'objective': 'binary:logistic', 'scale_pos_weight': scale_pos_weight}\n",
    "model = Model(params)"
   ]
  },
  {
   "cell_type": "code",
   "execution_count": null,
   "metadata": {
    "scrolled": true
   },
   "outputs": [],
   "source": [
    "model.fit(X_train, y_train, X_val, y_val, num_rounds=50)"
   ]
  },
  {
   "cell_type": "code",
   "execution_count": 1,
   "metadata": {
    "scrolled": false
   },
   "outputs": [
    {
     "ename": "NameError",
     "evalue": "name 'model' is not defined",
     "output_type": "error",
     "traceback": [
      "\u001b[0;31m---------------------------------------------------------------------------\u001b[0m",
      "\u001b[0;31mNameError\u001b[0m                                 Traceback (most recent call last)",
      "\u001b[0;32m<ipython-input-1-00e4b953cb65>\u001b[0m in \u001b[0;36m<module>\u001b[0;34m()\u001b[0m\n\u001b[0;32m----> 1\u001b[0;31m \u001b[0my_pred\u001b[0m \u001b[0;34m=\u001b[0m \u001b[0mmodel\u001b[0m\u001b[0;34m.\u001b[0m\u001b[0mpredict\u001b[0m\u001b[0;34m(\u001b[0m\u001b[0mX_train\u001b[0m\u001b[0;34m)\u001b[0m\u001b[0;34m\u001b[0m\u001b[0m\n\u001b[0m",
      "\u001b[0;31mNameError\u001b[0m: name 'model' is not defined"
     ]
    }
   ],
   "source": [
    "y_pred = model.predict(X_train)"
   ]
  },
  {
   "cell_type": "code",
   "execution_count": null,
   "metadata": {},
   "outputs": [],
   "source": [
    "model.score(W_train, y_pred, y_train, 0.8)"
   ]
  },
  {
   "cell_type": "code",
   "execution_count": null,
   "metadata": {},
   "outputs": [],
   "source": [
    "model.plot_evals_result()"
   ]
  },
  {
   "cell_type": "code",
   "execution_count": null,
   "metadata": {},
   "outputs": [],
   "source": [
    "y_pred = model.predict(X_train)"
   ]
  },
  {
   "cell_type": "code",
   "execution_count": null,
   "metadata": {},
   "outputs": [],
   "source": [
    "model.plot_ams(W_train, y_pred, y_train)"
   ]
  },
  {
   "cell_type": "code",
   "execution_count": 25,
   "metadata": {},
   "outputs": [],
   "source": [
    "from ipywidgets import interact, interactive, fixed, interact_manual\n",
    "import ipywidgets as widgets"
   ]
  },
  {
   "cell_type": "code",
   "execution_count": null,
   "metadata": {},
   "outputs": [],
   "source": [
    "interact(model.plot_histogram, cutoff=(0.1,0.95,0.05), \n",
    "          W=fixed(W_train), X_train=fixed(X_train), y_train=fixed(y_train))"
   ]
  },
  {
   "cell_type": "code",
   "execution_count": 5,
   "metadata": {},
   "outputs": [],
   "source": [
    "from ensemble import Ensemble"
   ]
  },
  {
   "cell_type": "code",
   "execution_count": 12,
   "metadata": {},
   "outputs": [],
   "source": [
    "params_list = [\n",
    "    {'max_depth': 10, \n",
    "     'eta': 0.1, \n",
    "     'gamma': 0.8,\n",
    "     'subsample': 0.8, \n",
    "     'num_round': 500, \n",
    "     'eval_metric': ['auc', 'error'],\n",
    "     'lambda': 25, \n",
    "     'growth_policy': 'depthwise', \n",
    "     'silent': 0, \n",
    "     'objective': 'binary:logistic', \n",
    "     'scale_pos_weight': scale_pos_weight},\n",
    "    {'max_depth': 50, \n",
    "     'eta': 0.05, \n",
    "     'gamma': 1.8,\n",
    "     'subsample': 0.6, \n",
    "     'num_round': 100, \n",
    "     'eval_metric': ['auc', 'error'],\n",
    "     'lambda': 12, \n",
    "     'growth_policy': \n",
    "     'lossguide', 'silent': 0, \n",
    "     'objective': 'binary:logistic', \n",
    "     'scale_pos_weight': scale_pos_weight}\n",
    "]\n",
    "\n",
    "blender_params = {'max_depth': 10, \n",
    "                  'eta': 0.5, \n",
    "                  'gamma': 1.5,\n",
    "                  'subsample': 0.9, \n",
    "                  'num_round': 500, \n",
    "                  'eval_metric': ['auc', 'error'],\n",
    "                  'lambda': 4, \n",
    "                  'growth_policy': 'depthwise', \n",
    "                  'silent': 0, \n",
    "                  'objective': 'binary:logistic', \n",
    "                  'scale_pos_weight': scale_pos_weight}"
   ]
  },
  {
   "cell_type": "code",
   "execution_count": 13,
   "metadata": {},
   "outputs": [],
   "source": [
    "ensemble = Ensemble(2, params_list, blender_params)\n",
    "ensemble.load_ensemble([\"classifier_0.model\", \"classifier_1.model\"], \"blender_classifier.model\")"
   ]
  },
  {
   "cell_type": "code",
   "execution_count": 7,
   "metadata": {},
   "outputs": [],
   "source": [
    "# ensemble.fit_predict(X_train, y_train, X_test)"
   ]
  },
  {
   "cell_type": "code",
   "execution_count": 8,
   "metadata": {},
   "outputs": [],
   "source": [
    "# for i, clf in enumerate(ensemble.clfs):\n",
    "#     clf.save_model(\"classifier_{0}.model\".format(i))\n",
    "# ensemble.blender_clf.save_model(\"blender_classifier.model\")"
   ]
  },
  {
   "cell_type": "code",
   "execution_count": 21,
   "metadata": {},
   "outputs": [
    {
     "data": {
      "text/plain": [
       "0.00078059774"
      ]
     },
     "execution_count": 21,
     "metadata": {},
     "output_type": "execute_result"
    }
   ],
   "source": [
    "y_pred = ensemble.predict(X_test)\n",
    "np.max(y_pred)"
   ]
  },
  {
   "cell_type": "code",
   "execution_count": 23,
   "metadata": {},
   "outputs": [
    {
     "data": {
      "text/plain": [
       "0.799219908710952"
      ]
     },
     "execution_count": 23,
     "metadata": {},
     "output_type": "execute_result"
    }
   ],
   "source": [
    "ensemble.score(W_test, y_pred, y_test, 1e-4)"
   ]
  },
  {
   "cell_type": "code",
   "execution_count": null,
   "metadata": {},
   "outputs": [],
   "source": []
  }
 ],
 "metadata": {
  "kernelspec": {
   "display_name": "Python 3",
   "language": "python",
   "name": "python3"
  },
  "language_info": {
   "codemirror_mode": {
    "name": "ipython",
    "version": 3
   },
   "file_extension": ".py",
   "mimetype": "text/x-python",
   "name": "python",
   "nbconvert_exporter": "python",
   "pygments_lexer": "ipython3",
   "version": "3.7.0"
  }
 },
 "nbformat": 4,
 "nbformat_minor": 2
}
